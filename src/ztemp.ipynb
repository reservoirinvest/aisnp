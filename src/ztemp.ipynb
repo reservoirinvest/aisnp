{
 "cells": [
  {
   "cell_type": "code",
   "execution_count": 1,
   "metadata": {},
   "outputs": [],
   "source": [
    "from from_root import from_root\n",
    "ROOT = from_root()\n",
    "\n",
    "from dataclasses import dataclass\n",
    "from datetime import datetime\n",
    "import yaml\n",
    "from typing import Optional\n",
    "import pandas as pd\n"
   ]
  },
  {
   "cell_type": "code",
   "execution_count": 38,
   "metadata": {},
   "outputs": [],
   "source": [
    "# Extract open order from PAPER\n",
    "from ib_async import order, util\n",
    "with get_ib('SNP', LIVE=False) as ib:\n",
    "    oo = ib.reqAllOpenOrders()"
   ]
  },
  {
   "cell_type": "code",
   "execution_count": null,
   "metadata": {},
   "outputs": [],
   "source": [
    "util.df(oo)"
   ]
  },
  {
   "cell_type": "code",
   "execution_count": 48,
   "metadata": {},
   "outputs": [],
   "source": [
    "# Function to rename fields and convert the object to a DataFrame\n",
    "def rename_fields(obj, field_map):\n",
    "    def rename(obj):\n",
    "        if isinstance(obj, list):\n",
    "            # If the object is a list of objects, apply recursively to each item\n",
    "            for item in obj:\n",
    "                rename(item)\n",
    "        else:\n",
    "            # If the object is not a list, apply the renaming\n",
    "            for old_field, new_field in field_map.items():\n",
    "                if hasattr(obj, old_field):\n",
    "                    value = getattr(obj, old_field)\n",
    "                    setattr(obj, new_field, value)\n",
    "                    delattr(obj, old_field)\n",
    "    \n",
    "    # Rename fields\n",
    "    rename(obj)\n",
    "\n"
   ]
  },
  {
   "cell_type": "code",
   "execution_count": 68,
   "metadata": {},
   "outputs": [],
   "source": [
    "import numpy as np\n",
    "\n",
    "def expand_dataframe(df):\n",
    "    # Create an empty DataFrame to store the expanded columns\n",
    "    expanded_df = pd.DataFrame()\n",
    "    \n",
    "    # Convert the input to DataFrame if it's not already\n",
    "    if not isinstance(df, pd.DataFrame):\n",
    "        df = util.df(df)\n",
    "    \n",
    "    # Process each column in the DataFrame\n",
    "    for col in df.columns:\n",
    "        # Skip columns with all null values\n",
    "        if df[col].isnull().all():\n",
    "            continue\n",
    "            \n",
    "        # Get the first non-null value to determine the type\n",
    "        sample_value = df[col].iloc[0]\n",
    "        \n",
    "        if isinstance(sample_value, list):\n",
    "            # Handle list columns (like 'log' and 'fills')\n",
    "            if len(sample_value) > 0:\n",
    "                # For non-empty lists (like 'log' with TradeLogEntry)\n",
    "                list_df = util.df(sample_value)\n",
    "                if not list_df.empty:\n",
    "                    expanded_df = pd.concat([expanded_df, list_df], axis=1)\n",
    "        else:\n",
    "            # Handle non-list objects (like Option, Order, OrderStatus)\n",
    "            obj_df = util.df(df[col].tolist())\n",
    "            expanded_df = pd.concat([expanded_df, obj_df], axis=1)\n",
    "    \n",
    "    # Remove duplicate columns\n",
    "    expanded_df = expanded_df.loc[:, ~expanded_df.columns.duplicated()]\n",
    "    \n",
    "    # Remove columns with all null values or empty strings\n",
    "    expanded_df = expanded_df.dropna(axis=1, how='all')  # Remove columns with all NaN\n",
    "    \n",
    "    # Remove columns with all empty strings\n",
    "    empty_cols = expanded_df.columns[expanded_df.astype(str).eq('').all()]\n",
    "    expanded_df = expanded_df.drop(columns=empty_cols)\n",
    "    \n",
    "    # Remove columns with string representation of empty lists\n",
    "    empty_list_cols = expanded_df.columns[expanded_df.astype(str).eq('[]').all()]\n",
    "    expanded_df = expanded_df.drop(columns=empty_list_cols)\n",
    "    \n",
    "    # Remove columns with all UNSET_DOUBLE values\n",
    "    unset_cols = expanded_df.columns[expanded_df.apply(lambda x: (x == util.UNSET_DOUBLE).all())]\n",
    "    expanded_df = expanded_df.drop(columns=unset_cols)\n",
    "    \n",
    "    return expanded_df"
   ]
  },
  {
   "cell_type": "code",
   "execution_count": 69,
   "metadata": {},
   "outputs": [],
   "source": [
    "from ibfuncs import get_ib\n",
    "\n",
    "with get_ib('SNP', LIVE=False) as ib:\n",
    "    open_orders = ib.reqAllOpenOrders()\n",
    "\n",
    "# Define the field name mapping\n",
    "field_map = {\n",
    "    \"lastTradeDateOrContractMonth\": \"expiry\",\n",
    "    # Add more field mappings as needed\n",
    "}\n",
    "\n",
    "# Rename the fields in the object\n",
    "df = expand_dataframe(open_orders)"
   ]
  },
  {
   "cell_type": "code",
   "execution_count": null,
   "metadata": {},
   "outputs": [],
   "source": [
    "df"
   ]
  },
  {
   "cell_type": "code",
   "execution_count": null,
   "metadata": {},
   "outputs": [],
   "source": []
  }
 ],
 "metadata": {
  "kernelspec": {
   "display_name": ".venv",
   "language": "python",
   "name": "python3"
  },
  "language_info": {
   "codemirror_mode": {
    "name": "ipython",
    "version": 3
   },
   "file_extension": ".py",
   "mimetype": "text/x-python",
   "name": "python",
   "nbconvert_exporter": "python",
   "pygments_lexer": "ipython3",
   "version": "3.11.5"
  }
 },
 "nbformat": 4,
 "nbformat_minor": 2
}
